{
 "cells": [
  {
   "cell_type": "code",
   "execution_count": 1,
   "id": "a7234353",
   "metadata": {},
   "outputs": [],
   "source": [
    "import os"
   ]
  },
  {
   "cell_type": "code",
   "execution_count": 4,
   "id": "802494c8",
   "metadata": {},
   "outputs": [],
   "source": [
    "##tools\n",
    "from langchain_community.tools import ArxivQueryRun, WikipediaQueryRun\n",
    "from langchain_community.utilities import WikipediaAPIWrapper, ArxivAPIWrapper\n"
   ]
  },
  {
   "cell_type": "markdown",
   "id": "4187cf71",
   "metadata": {},
   "source": [
    "ARXIV TOLS"
   ]
  },
  {
   "cell_type": "code",
   "execution_count": 5,
   "id": "e6cf986a",
   "metadata": {},
   "outputs": [],
   "source": [
    "api_wrapper_arxiv = ArxivAPIWrapper(top_k_results=2, doc_content_chars_max=500)\n",
    "arxiv = ArxivQueryRun(api_wrapper=api_wrapper_arxiv, description=\"Query arvix papers\")"
   ]
  },
  {
   "cell_type": "code",
   "execution_count": 6,
   "id": "0a5115ce",
   "metadata": {},
   "outputs": [
    {
     "data": {
      "text/plain": [
       "\"Published: 2024-07-22\\nTitle: Attention Is All You Need But You Don't Need All Of It For Inference of Large Language Models\\nAuthors: Georgy Tyukin, Gbetondji J-S Dovonon, Jean Kaddour, Pasquale Minervini\\nSummary: The inference demand for LLMs has skyrocketed in recent months, and serving\\nmodels with low latencies remains challenging due to the quadratic input length\\ncomplexity of the attention layers. In this work, we investigate the effect of\\ndropping MLP and attention layers at inference time o\""
      ]
     },
     "execution_count": 6,
     "metadata": {},
     "output_type": "execute_result"
    }
   ],
   "source": [
    "arxiv.invoke(\"Attention all you need\")"
   ]
  },
  {
   "cell_type": "markdown",
   "id": "fd6e2e7c",
   "metadata": {},
   "source": [
    "WIKIPEDIA TOOLS"
   ]
  },
  {
   "cell_type": "code",
   "execution_count": 7,
   "id": "ba2ae166",
   "metadata": {},
   "outputs": [
    {
     "data": {
      "text/plain": [
       "'wikipedia'"
      ]
     },
     "execution_count": 7,
     "metadata": {},
     "output_type": "execute_result"
    }
   ],
   "source": [
    "api_wrapper_wiki = WikipediaAPIWrapper(top_k_results=1, doc_content_chars_max=500)\n",
    "wiki = WikipediaQueryRun(api_wrapper=api_wrapper_wiki, description=\"\")\n",
    "wiki.name"
   ]
  },
  {
   "cell_type": "code",
   "execution_count": 9,
   "id": "8a592029",
   "metadata": {},
   "outputs": [
    {
     "data": {
      "text/plain": [
       "'Page: Sikandar (2025 film)\\nSummary: Sikandar is a 2025 Indian Hindi-language action drama film written and directed by A. R. Murugadoss and produced by Sajid Nadiadwala. It stars Salman Khan, Rashmika Mandanna, Sathyaraj, Kajal Aggarwal, Sharman Joshi, Prateik Babbar, Kishore, Jatin Sarna and Sanjay Kapoor. In the film, Salman khan plays in titular role as Sanjay \"Sikandar\" Rajkot. (Khan) is hunted by a politician seeking revenge for a family tragedy.\\nSikandar was officially announced in April 2'"
      ]
     },
     "execution_count": 9,
     "metadata": {},
     "output_type": "execute_result"
    }
   ],
   "source": [
    "wiki.invoke(\"salman khan 2025 movies\")"
   ]
  },
  {
   "cell_type": "markdown",
   "id": "9ffd2a7a",
   "metadata": {},
   "source": [
    "IMPORT API KEYS"
   ]
  },
  {
   "cell_type": "code",
   "execution_count": 11,
   "id": "d947cf3c",
   "metadata": {},
   "outputs": [],
   "source": [
    "import os\n",
    "from dotenv import load_dotenv\n",
    "load_dotenv()\n",
    "os.environ['GROQ_API_KEY'] = os.getenv(\"GROQ_API_KEY\")\n",
    "os.environ['TAVILY_API_KEY'] = os.getenv(\"TAVILY_API_KEY\")"
   ]
  },
  {
   "cell_type": "markdown",
   "id": "c04f35bb",
   "metadata": {},
   "source": [
    "TAVILY TOOLS"
   ]
  },
  {
   "cell_type": "code",
   "execution_count": 12,
   "id": "dd57ac82",
   "metadata": {},
   "outputs": [],
   "source": [
    "from langchain_community.tools.tavily_search import TavilySearchResults\n",
    "tavily = TavilySearchResults()"
   ]
  },
  {
   "cell_type": "code",
   "execution_count": 13,
   "id": "e6cf2303",
   "metadata": {},
   "outputs": [
    {
     "data": {
      "text/plain": [
       "[{'title': 'Artificial Intelligence News - ScienceDaily',\n",
       "  'url': 'https://www.sciencedaily.com/news/computers_math/artificial_intelligence/',\n",
       "  'content': 'Wednesday, February 19, 2025\\n\\nThursday, February 13, 2025\\n\\nMonday, February 10, 2025\\n\\nMonday, February 3, 2025\\n\\nWednesday, January 29, 2025\\n\\nTuesday, January 28, 2025\\n\\nMonday, January 27, 2025\\n\\nTuesday, January 21, 2025\\n\\nThursday, January 16, 2025\\n\\nWednesday, January 15, 2025\\n\\nTuesday, January 14, 2025\\n\\nThursday, January 9, 2025\\n\\nWednesday, January 8, 2025\\n\\nMonday, January 6, 2025\\n\\nThursday, January 2, 2025\\n\\nFriday, December 27, 2024\\n\\nThursday, December 26, 2024\\n\\nThursday, December 19, 2024 [...] Artificial Intelligence News\\n\\nTop Headlines\\n\\nLatest Headlines\\n\\nEarlier Headlines\\n\\nTuesday, April 8, 2025\\n\\nThursday, April 3, 2025\\n\\nThursday, March 27, 2025\\n\\nWednesday, March 26, 2025\\n\\nTuesday, March 25, 2025\\n\\nWednesday, March 19, 2025\\n\\nTuesday, March 18, 2025\\n\\nMonday, March 17, 2025\\n\\nThursday, March 6, 2025\\n\\nWednesday, March 5, 2025\\n\\nTuesday, March 4, 2025\\n\\nWednesday, February 26, 2025\\n\\nTuesday, February 25, 2025\\n\\nFriday, February 21, 2025\\n\\nThursday, February 20, 2025 [...] Wednesday, December 18, 2024\\n\\nTuesday, December 17, 2024\\n\\nMonday, December 16, 2024\\n\\nTuesday, December 10, 2024\\n\\nMonday, December 9, 2024\\n\\nFriday, December 6, 2024\\n\\nWednesday, December 4, 2024\\n\\nMonday, December 2, 2024\\n\\nFriday, November 29, 2024\\n\\nTuesday, November 26, 2024\\n\\nMonday, November 25, 2024\\n\\nThursday, November 21, 2024\\n\\nWednesday, November 20, 2024\\n\\nTuesday, November 19, 2024\\n\\nMonday, November 18, 2024\\n\\nSaturday, November 16, 2024\\n\\nThursday, November 14, 2024',\n",
       "  'score': 0.6768127},\n",
       " {'title': 'Artificial intelligence - NBC News',\n",
       "  'url': 'https://www.nbcnews.com/artificial-intelligence',\n",
       "  'content': \"02:16\\n\\nVance says U.S. will be the ‘gold standard’ of AI technology\\n\\n03:36\\n\\nAI startup DeepSeek causes buzz in China but draws global scrutiny over censorship and security\\n\\nNBC News NOW\\n\\n02:03\\n\\nA.I. leaders say China may have copied U.S. technology\\n\\nNightly News\\n\\n08:23\\n\\nNew Chinese A.I. tool 'DeepSeek' competes with American models\\n\\nNBC News NOW\\n\\nMORE AI NEWS\\n\\nTrump signs executive order to boost U.S. coal industry, in part to fuel artificial intelligence [...] Profile\\n\\nSections\\n\\nLocal\\n\\ntv\\n\\nFeatured\\n\\nMore From NBC\\n\\nFollow NBC News\\n\\nnews Alerts\\n\\nThere are no new alerts at this time\\n\\nARTIFICIAL INTELLIGENCE\\n\\nThe latest news and top stories on artificial intelligence, including ChatGPT, AI Chatbot and Bard.\\n\\nMeta executive apologizes to conservative anti-DEI activist for AI responses\\n\\nOpenAI rolled back a ChatGPT update that made the bot excessively flattering\\n\\nAI NEWS\\n\\nArtificial intelligence [...] Researchers secretly infiltrated a popular Reddit forum with AI bots, causing outrage\\n\\nArtificial intelligence\\n\\nJosh Gottheimer uses AI in anti-Trump ad for the New Jersey governor's race\\n\\nArtificial intelligence\\n\\nChina's robots race against humans — and their U.S. counterparts\\n\\nArtificial intelligence\\n\\nViral AI-made art trends are making artists even more worried about their futures\\n\\nTECH NEWS\\n\\nSpace\\n\\nWelcome to Starbase: Texas has a new city home to Elon Musk's SpaceX\\n\\nTech & Media\",\n",
       "  'score': 0.62770075},\n",
       " {'title': 'AI News | Latest AI News, Analysis & Events',\n",
       "  'url': 'https://www.artificialintelligence-news.com/',\n",
       "  'content': 'AI News reports on the latest artificial intelligence news and insights. Explore industry trends from the frontline of AI.',\n",
       "  'score': 0.60610276},\n",
       " {'title': 'AI News & Artificial Intelligence | TechCrunch',\n",
       "  'url': 'https://techcrunch.com/category/artificial-intelligence/',\n",
       "  'content': 'Google will soon start letting kids under 13 use its Gemini chatbot\\n\\nOne of Google’s recent Gemini AI models scores worse on safety\\n\\nApple and Anthropic reportedly partner to build an AI coding platform\\n\\nOpenAI pledges to make changes to prevent future ChatGPT sycophancy\\n\\nGoogle’s NotebookLM Android and iOS apps are available for preorder\\n\\nDamn, the Cluely ragebait got us\\n\\nAirbnb is quietly rolling out an AI customer service bot in the US\\n\\nAmazon CEO says 100,000 users now have Alexa+ [...] Last call to volunteer at TechCrunch Sessions: AI\\n\\nGoogle is reportedly showing ads in chats with some third-party AI chatbots\\n\\nMicrosoft’s most capable new Phi 4 AI model rivals the performance of far larger systems\\n\\nWorld partners with Tinder, Visa to bring its ID-verifying tech to more places\\n\\nSam Altman’s World unveils a mobile verification device\\n\\nMeta forecasted it would make $1.4T in revenue from generative AI by 2035\\n\\nAmazon launches Nova Premier, its most capable AI model yet [...] Microsoft CEO says up to 30% of the company’s code was written by AI\\n\\nGoogle launches AI tools for practicing languages through personalized lessons\\n\\nGoogle launches AI tools for practicing languages through personalized lessons\\n\\nIndian court orders blocking of Proton Mail\\n\\nIndian court orders blocking of Proton Mail\\n\\nHugging Face releases a 3D-printed robotic arm starting at $100\\n\\nHugging Face releases a 3D-printed robotic arm starting at $100',\n",
       "  'score': 0.6055431},\n",
       " {'title': 'Artificial Intelligence - Latest AI News and Analysis - WSJ.com',\n",
       "  'url': 'https://www.wsj.com/tech/ai',\n",
       "  'content': 'The latest artificial intelligence news coverage focusing on the technology, tools and the companies building AI technology.',\n",
       "  'score': 0.59824234}]"
      ]
     },
     "execution_count": 13,
     "metadata": {},
     "output_type": "execute_result"
    }
   ],
   "source": [
    "tavily.invoke(\"provide me the recent ai news\")"
   ]
  },
  {
   "cell_type": "markdown",
   "id": "0025e392",
   "metadata": {},
   "source": [
    "#COMBINE ALL THE TOOLS\n"
   ]
  },
  {
   "cell_type": "markdown",
   "id": "ff2ab8b9",
   "metadata": {},
   "source": []
  },
  {
   "cell_type": "code",
   "execution_count": 14,
   "id": "37bc2ad0",
   "metadata": {},
   "outputs": [],
   "source": [
    "tools = [arxiv, wiki, tavily]"
   ]
  },
  {
   "cell_type": "markdown",
   "id": "c3b843b6",
   "metadata": {},
   "source": [
    "INITIALIZE LLM MODEL"
   ]
  },
  {
   "cell_type": "code",
   "execution_count": 15,
   "id": "da7cf745",
   "metadata": {},
   "outputs": [],
   "source": [
    "from langchain_groq import ChatGroq\n",
    "llm= ChatGroq(\n",
    "    model = \"qwen-qwq-32b\"\n",
    ")"
   ]
  },
  {
   "cell_type": "code",
   "execution_count": 16,
   "id": "e9f6e5b1",
   "metadata": {},
   "outputs": [
    {
     "data": {
      "text/plain": [
       "AIMessage(content='\\n<think>\\nOkay, the user just said \"hi\". I should respond in a friendly way. Let me think of a simple greeting. Maybe \"Hello! How can I assist you today?\" That sounds good. It\\'s welcoming and opens the door for them to ask for help. I\\'ll go with that.\\n</think>\\n\\nHello! How can I assist you today?', additional_kwargs={}, response_metadata={'token_usage': {'completion_tokens': 72, 'prompt_tokens': 11, 'total_tokens': 83, 'completion_time': 0.177083401, 'prompt_time': 0.002892115, 'queue_time': 0.24837764799999998, 'total_time': 0.179975516}, 'model_name': 'qwen-qwq-32b', 'system_fingerprint': 'fp_3796682456', 'finish_reason': 'stop', 'logprobs': None}, id='run--76ec6c46-188d-4f3b-ad6c-78a90a429930-0', usage_metadata={'input_tokens': 11, 'output_tokens': 72, 'total_tokens': 83})"
      ]
     },
     "execution_count": 16,
     "metadata": {},
     "output_type": "execute_result"
    }
   ],
   "source": [
    "llm.invoke(\"hi\")"
   ]
  },
  {
   "cell_type": "markdown",
   "id": "b56f7d86",
   "metadata": {},
   "source": [
    "BIND LLM WITH TOOLS"
   ]
  },
  {
   "cell_type": "code",
   "execution_count": 17,
   "id": "c61729b1",
   "metadata": {},
   "outputs": [],
   "source": [
    "llm_with_tools = llm.bind_tools(tools = tools)"
   ]
  },
  {
   "cell_type": "code",
   "execution_count": 20,
   "id": "a98c43d8",
   "metadata": {},
   "outputs": [
    {
     "name": "stdout",
     "output_type": "stream",
     "text": [
      "content='' additional_kwargs={'tool_calls': [{'id': 'call_khfb', 'function': {'arguments': '{\"query\": \"quantum computing\"}', 'name': 'arxiv'}, 'type': 'function'}]} response_metadata={'token_usage': {'completion_tokens': 206, 'prompt_tokens': 328, 'total_tokens': 534, 'completion_time': 0.46560529, 'prompt_time': 0.021196804, 'queue_time': 0.5415005039999999, 'total_time': 0.486802094}, 'model_name': 'qwen-qwq-32b', 'system_fingerprint': 'fp_a91d9c2cfb', 'finish_reason': 'tool_calls', 'logprobs': None} id='run--3dcd1ab1-f301-4359-9f96-f1462fa50690-0' tool_calls=[{'name': 'arxiv', 'args': {'query': 'quantum computing'}, 'id': 'call_khfb', 'type': 'tool_call'}] usage_metadata={'input_tokens': 328, 'output_tokens': 206, 'total_tokens': 534}\n"
     ]
    }
   ],
   "source": [
    "result = llm_with_tools.invoke(\"what is the latest research on quantum computing?\")\n",
    "print(result)"
   ]
  },
  {
   "cell_type": "markdown",
   "id": "4364b307",
   "metadata": {},
   "source": [
    "WORKFLOW"
   ]
  },
  {
   "cell_type": "code",
   "execution_count": 22,
   "id": "e643018d",
   "metadata": {},
   "outputs": [],
   "source": [
    "##state schema\n",
    "from typing_extensions import TypedDict\n",
    "from langchain_core.messages import AnyMessage # HUman message or Ai message\n",
    "from typing import Annotated #labeling\n",
    "from langgraph.graph.message import add_messages ##reducers in langgraph"
   ]
  },
  {
   "cell_type": "code",
   "execution_count": 43,
   "id": "d4921344",
   "metadata": {},
   "outputs": [],
   "source": [
    "class State(TypedDict):\n",
    "    messages:Annotated[list[AnyMessage], add_messages]"
   ]
  },
  {
   "cell_type": "code",
   "execution_count": 44,
   "id": "fd837d90",
   "metadata": {},
   "outputs": [],
   "source": [
    "## ENtire Chatbot With Langraph\n",
    "from langgraph.graph import StateGraph, START,END\n",
    "from langgraph.prebuilt import ToolNode #if llm calling whats path do i need to take , if llm not calling the tool what path do i need to take\n",
    "from langgraph.prebuilt import tools_condition\n",
    "from IPython.display import display, Image"
   ]
  },
  {
   "cell_type": "code",
   "execution_count": 45,
   "id": "89de11e0",
   "metadata": {},
   "outputs": [
    {
     "data": {
      "image/png": "[encoded data removed]",
      "text/plain": [
       "<IPython.core.display.Image object>"
      ]
     },
     "metadata": {},
     "output_type": "display_data"
    }
   ],
   "source": [
    "### NODE definition\n",
    "def tool_calling_llm(state:State):\n",
    "    return {\"messages\":[llm_with_tools.invoke(state['messages'])]}\n",
    "\n",
    "#build graph\n",
    "builder = StateGraph(State)\n",
    "builder.add_node(\"tool_calling_llm\", tool_calling_llm)\n",
    "builder.add_node(\"tools\", ToolNode(tools))\n",
    "\n",
    "#add edges\n",
    "builder.add_edge(START, \"tool_calling_llm\")\n",
    "builder.add_conditional_edges(\n",
    "    \"tool_calling_llm\",\n",
    "    #if the latest message (result) from assistant is a tool call -> tools_condition routes to tools\n",
    "    # if the latest mesaage (result) from assistant is a not a tool call -> tools_condition routes to END\n",
    "    tools_condition,\n",
    "    )\n",
    "builder.add_edge(\"tools\", END)\n",
    "\n",
    "graph = builder.compile()\n",
    "display(Image(graph.get_graph().draw_mermaid_png()))"
   ]
  },
  {
   "cell_type": "code",
   "execution_count": 46,
   "id": "c9323803",
   "metadata": {},
   "outputs": [
    {
     "name": "stdout",
     "output_type": "stream",
     "text": [
      "================================\u001b[1m Human Message \u001b[0m=================================\n",
      "\n",
      "Hi i am murugan\n",
      "==================================\u001b[1m Ai Message \u001b[0m==================================\n",
      "\n",
      "Hello Murugan! How can I assist you today? Feel free to ask me any questions or let me know if you need help with anything specific! 😊\n"
     ]
    }
   ],
   "source": [
    "from langchain_core.messages import HumanMessage\n",
    "messages = graph.invoke({\"messages\":[HumanMessage(content=\"Hi i am murugan\")]})\n",
    "for i in messages['messages']:\n",
    "    i.pretty_print() "
   ]
  },
  {
   "cell_type": "code",
   "execution_count": 47,
   "id": "24cc1d28",
   "metadata": {},
   "outputs": [
    {
     "name": "stdout",
     "output_type": "stream",
     "text": [
      "================================\u001b[1m Human Message \u001b[0m=================================\n",
      "\n",
      "1706.03762\n",
      "==================================\u001b[1m Ai Message \u001b[0m==================================\n",
      "Tool Calls:\n",
      "  arxiv (call_cca8)\n",
      " Call ID: call_cca8\n",
      "  Args:\n",
      "    query: 1706.03762\n",
      "=================================\u001b[1m Tool Message \u001b[0m=================================\n",
      "Name: arxiv\n",
      "\n",
      "Published: 2023-08-02\n",
      "Title: Attention Is All You Need\n",
      "Authors: Ashish Vaswani, Noam Shazeer, Niki Parmar, Jakob Uszkoreit, Llion Jones, Aidan N. Gomez, Lukasz Kaiser, Illia Polosukhin\n",
      "Summary: The dominant sequence transduction models are based on complex recurrent or\n",
      "convolutional neural networks in an encoder-decoder configuration. The best\n",
      "performing models also connect the encoder and decoder through an attention\n",
      "mechanism. We propose a new simple network architecture, the Transformer, base\n"
     ]
    }
   ],
   "source": [
    "from langchain_core.messages import HumanMessage\n",
    "messages = graph.invoke({\"messages\":\"1706.03762\"})\n",
    "for i in messages['messages']:\n",
    "    i.pretty_print() "
   ]
  },
  {
   "cell_type": "code",
   "execution_count": 48,
   "id": "b2ecacdb",
   "metadata": {},
   "outputs": [
    {
     "data": {
      "image/png": "[encoded data removed]",
      "text/plain": [
       "<IPython.core.display.Image object>"
      ]
     },
     "metadata": {},
     "output_type": "display_data"
    }
   ],
   "source": [
    "### Node definition\n",
    "def tool_calling_llm(state:State):\n",
    "    return {\"messages\":[llm_with_tools.invoke(state[\"messages\"])]}\n",
    "\n",
    "# Build graph\n",
    "builder = StateGraph(State)\n",
    "builder.add_node(\"tool_calling_llm\", tool_calling_llm)\n",
    "builder.add_node(\"tools\", ToolNode(tools))\n",
    "\n",
    "## Edgess\n",
    "builder.add_edge(START, \"tool_calling_llm\")\n",
    "builder.add_conditional_edges(\n",
    "    \"tool_calling_llm\",\n",
    "    # If the latest message (result) from assistant is a tool call -> tools_condition routes to tools\n",
    "    # If the latest message (result) from assistant is a not a tool call -> tools_condition routes to END\n",
    "    tools_condition,\n",
    ")\n",
    "builder.add_edge(\"tools\", \"tool_calling_llm\")\n",
    "\n",
    "graph = builder.compile()\n",
    "\n",
    "# View\n",
    "display(Image(graph.get_graph().draw_mermaid_png()))"
   ]
  },
  {
   "cell_type": "code",
   "execution_count": 49,
   "id": "9b37916b",
   "metadata": {},
   "outputs": [
    {
     "name": "stdout",
     "output_type": "stream",
     "text": [
      "================================\u001b[1m Human Message \u001b[0m=================================\n",
      "\n",
      "What is the recent AI news and then please tell me the recent research paper on quantum computing?\n",
      "==================================\u001b[1m Ai Message \u001b[0m==================================\n",
      "Tool Calls:\n",
      "  tavily_search_results_json (call_qbm7)\n",
      " Call ID: call_qbm7\n",
      "  Args:\n",
      "    query: recent AI news\n",
      "  arxiv (call_gn33)\n",
      " Call ID: call_gn33\n",
      "  Args:\n",
      "    query: recent quantum computing research papers\n",
      "=================================\u001b[1m Tool Message \u001b[0m=================================\n",
      "Name: tavily_search_results_json\n",
      "\n",
      "[{\"title\": \"The latest AI news we announced in March - Google Blog\", \"url\": \"https://blog.google/technology/ai/google-ai-updates-march-2025/\", \"content\": \"The latest AI news we announced in March\\n\\nApr 04, 2025\\n\\n[[read-time]] min read\\n\\nHere’s a recap of some of our biggest AI updates from March, including Gemini 2.5 Pro, expanded access to AI Overviews, the release of AI Mode and more.\\n\\nGeneral summary [...] March was all about expanding AI across our products to make them even more helpful. The Gemini app was upgraded to include new features like personalization, Canvas and Audio Overviews, and we made our Deep Research and Gems features available at no cost. We also added our speedy Gemini 2.0 Flash Thinking experimental model under the hood — and one-upped ourselves just a few days later by making our most intelligent AI model, Gemini 2.5 Pro (experimental), available to all Gemini users. [...] We launched three new initiatives to protect and restore nature using AI. A startup accelerator, kicking off in May 2025, includes programming, mentoring and technical support from Google. Google.org is also providing $3 million to support AI-enabled solutions for biodiversity, bioeconomy and agriculture from Brazilian nonprofits. And we released SpeciesNet, a Cloud-based, open-source AI model for identifying animal species from camera trap photos, enabling people to protect nature and\", \"score\": 0.8058924}, {\"title\": \"Artificial Intelligence - Latest AI News and Analysis - WSJ.com\", \"url\": \"https://www.wsj.com/tech/ai\", \"content\": \"The latest artificial intelligence news coverage focusing on the technology, tools and the companies building AI technology.\", \"score\": 0.71425}, {\"title\": \"Artificial intelligence - NBC News\", \"url\": \"https://www.nbcnews.com/artificial-intelligence\", \"content\": \"02:16\\n\\nVance says U.S. will be the ‘gold standard’ of AI technology\\n\\n03:36\\n\\nAI startup DeepSeek causes buzz in China but draws global scrutiny over censorship and security\\n\\nNBC News NOW\\n\\n02:03\\n\\nA.I. leaders say China may have copied U.S. technology\\n\\nNightly News\\n\\n08:23\\n\\nNew Chinese A.I. tool 'DeepSeek' competes with American models\\n\\nNBC News NOW\\n\\nMORE AI NEWS\\n\\nTrump signs executive order to boost U.S. coal industry, in part to fuel artificial intelligence [...] Profile\\n\\nSections\\n\\nLocal\\n\\ntv\\n\\nFeatured\\n\\nMore From NBC\\n\\nFollow NBC News\\n\\nnews Alerts\\n\\nThere are no new alerts at this time\\n\\nARTIFICIAL INTELLIGENCE\\n\\nThe latest news and top stories on artificial intelligence, including ChatGPT, AI Chatbot and Bard.\\n\\nMeta executive apologizes to conservative anti-DEI activist for AI responses\\n\\nOpenAI rolled back a ChatGPT update that made the bot excessively flattering\\n\\nAI NEWS\\n\\nArtificial intelligence [...] How artificial intelligence could shape future of youth sports\\n\\nNightly News\\n\\n02:20\\n\\nCollege students warn of privacy risks from smart glasses\\n\\nNightly News\\n\\n03:15\\n\\nHarvard professor uses AI to replicate himself for tutor experiment\\n\\nNBC News NOW\\n\\n02:35\\n\\nMan files complaint after ChatGPT falsely claimed he murdered his children\\n\\nNBC News NOW\\n\\n02:54\\n\\nA.I. chatbots becoming popular but worry privacy advocates\\n\\nNightly News\\n\\n03:15\\n\\nChristie's begins AI art auction amid backlash\\n\\nNBC News NOW\", \"score\": 0.7120925}, {\"title\": \"AI News & Artificial Intelligence | TechCrunch\", \"url\": \"https://techcrunch.com/category/artificial-intelligence/\", \"content\": \"Google will soon start letting kids under 13 use its Gemini chatbot\\n\\nOne of Google’s recent Gemini AI models scores worse on safety\\n\\nApple and Anthropic reportedly partner to build an AI coding platform\\n\\nOpenAI pledges to make changes to prevent future ChatGPT sycophancy\\n\\nGoogle’s NotebookLM Android and iOS apps are available for preorder\\n\\nDamn, the Cluely ragebait got us\\n\\nAirbnb is quietly rolling out an AI customer service bot in the US\\n\\nAmazon CEO says 100,000 users now have Alexa+ [...] Last call to volunteer at TechCrunch Sessions: AI\\n\\nGoogle is reportedly showing ads in chats with some third-party AI chatbots\\n\\nMicrosoft’s most capable new Phi 4 AI model rivals the performance of far larger systems\\n\\nWorld partners with Tinder, Visa to bring its ID-verifying tech to more places\\n\\nSam Altman’s World unveils a mobile verification device\\n\\nMeta forecasted it would make $1.4T in revenue from generative AI by 2035\\n\\nAmazon launches Nova Premier, its most capable AI model yet [...] Duolingo launches 148 courses created with AI after sharing plans to replace contractors with AI\\n\\nMicrosoft CEO says up to 30% of the company’s code was written by AI\\n\\nMicrosoft CEO says up to 30% of the company’s code was written by AI\\n\\nGoogle launches AI tools for practicing languages through personalized lessons\\n\\nGoogle launches AI tools for practicing languages through personalized lessons\\n\\nIndian court orders blocking of Proton Mail\\n\\nIndian court orders blocking of Proton Mail\", \"score\": 0.7001783}, {\"title\": \"Artificial intelligence | Massachusetts Institute of Technology\", \"url\": \"https://news.mit.edu/topic/artificial-intelligence2\", \"content\": \"MAD Fellow Alexander Htet Kyaw connects humans, machines, and the physical world using AI and augmented reality.\\n\\nApril 28, 2025\\n\\nRead full story →\\n\\nNovel method detects microbial contamination in cell cultures\\n\\nUltraviolet light “fingerprints” on cell cultures and machine learning can provide a definitive yes/no contamination assessment within 30 minutes.\\n\\nApril 25, 2025\\n\\nRead full story →\\n\\nArtificial intelligence enhances air mobility planning [...] A faster way to solve complex planning problems\\n\\nBy eliminating redundant computations, a new data-driven method can streamline processes like scheduling trains, routing delivery drivers, or assigning airline crews.\\n\\nApril 16, 2025\\n\\nRead full story →\\n\\nTraining LLMs to self-detoxify their language\\n\\nA new method from the MIT-IBM Watson AI Lab helps large language models to steer their own responses toward safer, more ethical, value-aligned outputs.\\n\\nApril 14, 2025\\n\\nRead full story →\\n\\nPagination [...] TactStyle, a system developed by CSAIL researchers, uses image prompts to replicate both the visual appearance and tactile properties of 3D models.\\n\\nApril 22, 2025\\n\\nRead full story →\\n\\nNorma Kamali is transforming the future of fashion with AI\\n\\nThe renowned designer embraces generative AI to preserve and propel her legacy.\\n\\nApril 22, 2025\\n\\nRead full story →\\n\\nMIT’s McGovern Institute is shaping brain science and improving human lives on a global scale\", \"score\": 0.6693348}]\n",
      "=================================\u001b[1m Tool Message \u001b[0m=================================\n",
      "Name: arxiv\n",
      "\n",
      "Published: 2024-11-22\n",
      "Title: Who is Funding Indian Research? A look at major funding sources acknowledged in Indian research papers\n",
      "Authors: Vivek Kumar Singh, Prashasti Singh, Anurag Kanaujia, Abhirup Nandy\n",
      "Summary: Science and scientific research activities, in addition to the involvement of\n",
      "the researchers, require resources like research infrastructure, materials and\n",
      "reagents, databases and computational tools, journal subscriptions and\n",
      "publication charges etc. In order to meet these require\n",
      "==================================\u001b[1m Ai Message \u001b[0m==================================\n",
      "\n",
      "Here's a summary of the information based on the tool responses:\n",
      "\n",
      "---\n",
      "\n",
      "### **Recent AI News Highlights** (From Tavily Search):\n",
      "1. **Google Gemini 2.5 Pro**  \n",
      "   - Released in March 2025, this advanced AI model is now available to all Gemini users. New features include personalization, Canvas, and Audio Overviews.  \n",
      "   - Google also announced initiatives using AI for environmental conservation, including a $3M grant program for biodiversity projects and the open-source **SpeciesNet** tool for wildlife identification.\n",
      "\n",
      "2. **Microsoft's Phi 4**  \n",
      "   - The latest Phi model rivals larger systems in performance, and Microsoft reports that **30% of its code is now AI-generated** (as of April 2025).\n",
      "\n",
      "3. **AI Ethics & Safety**  \n",
      "   - MIT developed a method to make LLMs self-regulate ethical outputs (\"Training LLMs to self-detoxify their language\").  \n",
      "   - OpenAI addressed over-flattering responses in ChatGPT by rolling back an update.\n",
      "\n",
      "---\n",
      "\n",
      "### **Quantum Computing Research Papers (ArXiv Query Issue)**  \n",
      "The ArXiv tool returned a paper titled *\"Who is Funding Indian Research?\"* (2024), which is unrelated to quantum computing. This may indicate an error in the search parameters or outdated results.  \n",
      "\n",
      "**Recommendation**:  \n",
      "To refine the search, try a more specific query like:  \n",
      "**\"quantum computing 2025 breakthroughs\"** or **\"quantum error correction recent advancements\"**.  \n",
      "\n",
      "Would you like me to re-run the ArXiv search with adjusted parameters?  \n",
      "\n",
      "Let me know if you need further details on any AI news points!\n"
     ]
    }
   ],
   "source": [
    "messages=graph.invoke({\"messages\":\"What is the recent AI news and then please tell me the recent research paper on quantum computing?\"})\n",
    "for m in messages['messages']:\n",
    "    m.pretty_print()"
   ]
  },
  {
   "cell_type": "code",
   "execution_count": null,
   "id": "42c624a6",
   "metadata": {},
   "outputs": [],
   "source": []
  }
 ],
 "metadata": {
  "kernelspec": {
   "display_name": "venv",
   "language": "python",
   "name": "python3"
  },
  "language_info": {
   "codemirror_mode": {
    "name": "ipython",
    "version": 3
   },
   "file_extension": ".py",
   "mimetype": "text/x-python",
   "name": "python",
   "nbconvert_exporter": "python",
   "pygments_lexer": "ipython3",
   "version": "3.11.0b5"
  }
 },
 "nbformat": 4,
 "nbformat_minor": 5
}
